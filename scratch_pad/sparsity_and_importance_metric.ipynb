{
 "cells": [
  {
   "cell_type": "markdown",
   "id": "7e162e37",
   "metadata": {},
   "source": [
    "# Sparsity and Importance Metrics\n",
    "\n",
    "In this notebook, we explore weight sparsity in LLMs and how the choice of importance metric affects the performance of a sparse pruned LLM. For this, we use Llama-2-7B and a caliberation dataset of 128 samples from the `wikitext 2`, `c4`, and `fineweb-edu` dataset with context length 4096."
   ]
  },
  {
   "cell_type": "code",
   "execution_count": 1,
   "id": "3af39dea-f539-4394-bd62-21c9678c54d4",
   "metadata": {},
   "outputs": [
    {
     "name": "stderr",
     "output_type": "stream",
     "text": [
      "/Users/lawrencefrancis/miniconda3/envs/esie/lib/python3.10/site-packages/tqdm/auto.py:21: TqdmWarning: IProgress not found. Please update jupyter and ipywidgets. See https://ipywidgets.readthedocs.io/en/stable/user_install.html\n",
      "  from .autonotebook import tqdm as notebook_tqdm\n"
     ]
    }
   ],
   "source": [
    "%load_ext autoreload\n",
    "%autoreload 2\n",
    "\n",
    "from utils import *\n",
    "import matplotlib.pyplot as plt"
   ]
  },
  {
   "cell_type": "markdown",
   "id": "d11246cc",
   "metadata": {},
   "source": [
    "### Model and Tokenizer"
   ]
  },
  {
   "cell_type": "code",
   "execution_count": 2,
   "id": "8fcc3390-34e5-410b-9f15-ff4f2d7c02ef",
   "metadata": {},
   "outputs": [],
   "source": [
    "model_name = \"facebook/opt-125m\"\n",
    "model = AutoModelForCausalLM.from_pretrained(model_name, device_map=\"auto\", dtype=torch.float16)\n",
    "tokenizer = AutoTokenizer.from_pretrained(model_name)"
   ]
  },
  {
   "cell_type": "markdown",
   "id": "89da836d",
   "metadata": {},
   "source": [
    "### Calibration datasets"
   ]
  },
  {
   "cell_type": "code",
   "execution_count": null,
   "id": "84b49fb9-c614-4b39-b5cd-7bdaabbbd1cd",
   "metadata": {},
   "outputs": [],
   "source": [
    "# Calibration datasets\n",
    "NUM_SAMPLES = 128\n",
    "SEQUENCE_LEN = 4096\n",
    "\n",
    "# Load the train and test data for the calibration datasets\n",
    "w2_train_data, w2_test_data = get_w2_data(NUM_SAMPLES, SEQUENCE_LEN, tokenizer)\n",
    "c4_train_data, c4_test_data = get_c4_data(NUM_SAMPLES, SEQUENCE_LEN, tokenizer)\n",
    "\n",
    "num_tokens = NUM_SAMPLES * SEQUENCE_LEN\n",
    "fw_train_data = get_fineweb_edu(num_tokens, SEQUENCE_LEN, tokenizer, train=True)\n",
    "fw_test_data = get_fineweb_edu(num_tokens, SEQUENCE_LEN, tokenizer, train=False)"
   ]
  },
  {
   "cell_type": "markdown",
   "id": "19f27a27",
   "metadata": {},
   "source": [
    "# Wanda and BaWa reconstruction error vs perplexity\n",
    "\n",
    "The metrics used for Wanda considers the norm of the corresponding input activation channel for a weight matrix. This is done to account for outliers in the input activations, since large activation values lead to large reconstruction errors. In this section, we prune Llama-2-7B with Wanda measuring the total reconstruction error and the resulting perplexity on the calibration dataset. \n",
    "\n",
    "$$\\text{Wanda}(W_{ij}) = |W_{ij}| \\cdot ||X_{i}||_2$$\n",
    "\n",
    "Likewise we prune using BaWa, which is a more recent importance metric that scales the sum of the weight magnitude normalized by the input and output weight channels by the input activation norm.\n",
    "\n",
    "$$\\text{BaWa}(W_{ij}) = \\left(\\frac{1}{||W_{:,j}||_2^{\\theta_1}} + \\frac{1}{||W_{i,:}||_2^{\\theta_2}}\\right) \\cdot |W_{ij}| \\cdot ||X_{j}||_2^{\\theta_3}$$\n",
    "\n",
    "It is desired that the reconstruction error correlates with the perplexity, since it is assumed that lower reconstruction errors should lead to better model performance. In this experiment we assume uniform sparsity across all layers."
   ]
  },
  {
   "cell_type": "code",
   "execution_count": null,
   "id": "47453921",
   "metadata": {},
   "outputs": [],
   "source": [
    "reconstruction_errors = prune_default(model, fw_train_data, 0.5, theta1=0, theta2=0, theta3=1)\n",
    "perplexity = eval_ppl(model, w2_test_data, SEQUENCE_LEN,  bs=1, device=\"cuda\")\n",
    "\n",
    "del model\n",
    "gc.collect()\n",
    "torch.cuda.empty_cache()\n",
    "\n",
    "model = AutoModelForCausalLM.from_pretrained(model_name, device_map=\"auto\", dtype=torch.float16)\n",
    "bawa_reconstruction_errors = prune_default(model, fw_train_data, 0.5)\n",
    "bawa_perplexity = eval_ppl(model, w2_test_data, SEQUENCE_LEN,  bs=1, device=\"cuda\")\n",
    "\n",
    "# plot the reconstruction errors. Give appropriate labels and title\n",
    "# write the perplexity on the plot\n",
    "plt.plot(bawa_reconstruction_errors)\n",
    "plt.plot(reconstruction_errors)\n",
    "plt.legend([f\"BaWa: perplexity = {bawa_perplexity:.2f}\", f\"Wanda: perplexity = {perplexity:.2f}\"])\n",
    "plt.xlabel(\"Layer\")\n",
    "plt.ylabel(\"Reconstruction Error\")\n",
    "plt.grid()\n",
    "plt.title(\"Layer-wise Reconstruction Error after Pruning w/ Wanda and BaWa \\n(50% sparsity) Llama-2-7B\", wrap=True)\n",
    "# plt.text(0.5, max(reconstruction_errors)*0.9, f\"Perplexity: {perplexity:.2f}\", fontsize=12);"
   ]
  },
  {
   "cell_type": "markdown",
   "id": "9ae43744",
   "metadata": {},
   "source": [
    "### Results for 60% sparsity"
   ]
  },
  {
   "cell_type": "code",
   "execution_count": null,
   "id": "6e654cf6",
   "metadata": {},
   "outputs": [
    {
     "name": "stderr",
     "output_type": "stream",
     "text": [
      "Loading checkpoint shards: 100%|██████████| 2/2 [00:02<00:00,  1.20s/it]\n"
     ]
    },
    {
     "name": "stdout",
     "output_type": "stream",
     "text": [
      "loading calibration data\n",
      "dataset loading complete\n",
      "Layer 0 reconstruction error: 28530.67578125\n",
      "Layer 1 reconstruction error: 37419560.0\n",
      "Layer 2 reconstruction error: 463252.53125\n",
      "Layer 3 reconstruction error: 1105497.5\n",
      "Layer 4 reconstruction error: 2434493.5\n",
      "Layer 5 reconstruction error: 3429718.0\n",
      "Layer 6 reconstruction error: 5451325.0\n",
      "Layer 7 reconstruction error: 6756340.5\n",
      "Layer 8 reconstruction error: 8506874.0\n",
      "Layer 9 reconstruction error: 9950883.0\n",
      "Layer 10 reconstruction error: 12420040.0\n",
      "Layer 11 reconstruction error: 15208151.0\n",
      "Layer 12 reconstruction error: 16159306.0\n",
      "Layer 13 reconstruction error: 19225638.0\n",
      "Layer 14 reconstruction error: 21507504.0\n",
      "Layer 15 reconstruction error: 24368258.0\n",
      "Layer 16 reconstruction error: 33292494.0\n",
      "Layer 17 reconstruction error: 30961714.0\n",
      "Layer 18 reconstruction error: 35721096.0\n",
      "Layer 19 reconstruction error: 36136128.0\n",
      "Layer 20 reconstruction error: 46853416.0\n",
      "Layer 21 reconstruction error: 41436672.0\n",
      "Layer 22 reconstruction error: 48745232.0\n",
      "Layer 23 reconstruction error: 45668532.0\n",
      "Layer 24 reconstruction error: 55269188.0\n",
      "Layer 25 reconstruction error: 53863884.0\n",
      "Layer 26 reconstruction error: 71324720.0\n",
      "Layer 27 reconstruction error: 61989792.0\n",
      "Layer 28 reconstruction error: 86796792.0\n",
      "Layer 29 reconstruction error: 105602576.0\n",
      "Layer 30 reconstruction error: 232083008.0\n",
      "Layer 31 reconstruction error: 639933824.0\n",
      "nsamples 83\n",
      "sample 0\n"
     ]
    }
   ],
   "source": [
    "del model\n",
    "gc.collect()\n",
    "torch.cuda.empty_cache()\n",
    "\n",
    "model = AutoModelForCausalLM.from_pretrained(model_name, device_map=\"auto\", dtype=torch.float16)\n",
    "reconstruction_errors = prune_default(model, fw_train_data, 0.6, theta1=0, theta2=0, theta3=1)\n",
    "perplexity = eval_ppl(model, w2_test_data, SEQUENCE_LEN,  bs=1, device=\"cuda\")\n",
    "\n",
    "del model\n",
    "gc.collect()\n",
    "torch.cuda.empty_cache()\n",
    "\n",
    "model = AutoModelForCausalLM.from_pretrained(model_name, device_map=\"auto\", dtype=torch.float16)\n",
    "bawa_reconstruction_errors = prune_default(model, fw_train_data, 0.6)\n",
    "bawa_perplexity = eval_ppl(model, w2_test_data, SEQUENCE_LEN,  bs=1, device=\"cuda\")\n",
    "\n",
    "# plot the reconstruction errors. Give appropriate labels and title\n",
    "# write the perplexity on the plot\n",
    "plt.plot(bawa_reconstruction_errors)\n",
    "plt.plot(reconstruction_errors)\n",
    "plt.legend([f\"BaWa: perplexity = {bawa_perplexity:.2f}\", f\"Wanda: perplexity = {perplexity:.2f}\"])\n",
    "plt.xlabel(\"Layer\")\n",
    "plt.ylabel(\"Reconstruction Error\")\n",
    "plt.grid()\n",
    "plt.title(\"Layer-wise Reconstruction Error after Pruning w/ Wanda and BaWa \\n(60% sparsity) Llama-2-7B\", wrap=True)\n",
    "# plt.text(0.5, max(reconstruction_errors)*0.9, f\"Perplexity: {perplexity:.2f}\", fontsize=12);"
   ]
  },
  {
   "cell_type": "markdown",
   "id": "a6e48396",
   "metadata": {},
   "source": [
    "### 70% sparsity"
   ]
  },
  {
   "cell_type": "code",
   "execution_count": null,
   "id": "713faf5c",
   "metadata": {},
   "outputs": [
    {
     "data": {
      "application/vnd.jupyter.widget-view+json": {
       "model_id": "f7fcb5d582714149ab009a206a5ba39a",
       "version_major": 2,
       "version_minor": 0
      },
      "text/plain": [
       "Loading checkpoint shards:   0%|          | 0/2 [00:00<?, ?it/s]"
      ]
     },
     "metadata": {},
     "output_type": "display_data"
    },
    {
     "name": "stdout",
     "output_type": "stream",
     "text": [
      "loading calibration data\n",
      "dataset loading complete\n",
      "Layer 0 reconstruction error: 41162.4741191864\n",
      "Layer 1 reconstruction error: 1295822.214416504\n",
      "Layer 2 reconstruction error: 894618.1077880859\n",
      "Layer 3 reconstruction error: 1878173.7534179688\n",
      "Layer 4 reconstruction error: 2472923.1962890625\n",
      "Layer 5 reconstruction error: 2748715.923828125\n",
      "Layer 6 reconstruction error: 3369367.6328125\n",
      "Layer 7 reconstruction error: 3919603.8671875\n",
      "Layer 8 reconstruction error: 4075820.7890625\n",
      "Layer 9 reconstruction error: 4314466.45703125\n",
      "Layer 10 reconstruction error: 4209886.7734375\n",
      "Layer 11 reconstruction error: 5001823.46875\n",
      "Layer 12 reconstruction error: 4958517.015625\n",
      "Layer 13 reconstruction error: 5129489.78125\n",
      "Layer 14 reconstruction error: 5483618.71875\n",
      "Layer 15 reconstruction error: 5514606.8984375\n",
      "Layer 16 reconstruction error: 5852351.15625\n",
      "Layer 17 reconstruction error: 5911993.3125\n",
      "Layer 18 reconstruction error: 6130370.5390625\n",
      "Layer 19 reconstruction error: 6185625.703125\n",
      "Layer 20 reconstruction error: 6380937.890625\n",
      "Layer 21 reconstruction error: 6197935.109375\n",
      "Layer 22 reconstruction error: 6046681.671875\n",
      "Layer 23 reconstruction error: 5844060.5625\n",
      "Layer 24 reconstruction error: 5875491.40625\n",
      "Layer 25 reconstruction error: 6199981.625\n",
      "Layer 26 reconstruction error: 6724085.203125\n",
      "Layer 27 reconstruction error: 6872479.625\n",
      "Layer 28 reconstruction error: 7789049.09375\n",
      "Layer 29 reconstruction error: 8243099.9375\n",
      "Layer 30 reconstruction error: 11274142.78125\n",
      "Layer 31 reconstruction error: 19088069.9375\n",
      "nsamples 83\n",
      "sample 0\n",
      "sample 50\n"
     ]
    },
    {
     "data": {
      "application/vnd.jupyter.widget-view+json": {
       "model_id": "625abc2683b4470c890391136db9f3db",
       "version_major": 2,
       "version_minor": 0
      },
      "text/plain": [
       "Loading checkpoint shards:   0%|          | 0/2 [00:00<?, ?it/s]"
      ]
     },
     "metadata": {},
     "output_type": "display_data"
    },
    {
     "name": "stdout",
     "output_type": "stream",
     "text": [
      "loading calibration data\n",
      "dataset loading complete\n",
      "Layer 0 reconstruction error: 48203.0446434021\n",
      "Layer 1 reconstruction error: 1059773.1342773438\n",
      "Layer 2 reconstruction error: 962793.7185058594\n",
      "Layer 3 reconstruction error: 1942683.536743164\n",
      "Layer 4 reconstruction error: 2289977.4365234375\n",
      "Layer 5 reconstruction error: 2854861.546875\n",
      "Layer 6 reconstruction error: 3885304.19140625\n",
      "Layer 7 reconstruction error: 4466388.6171875\n",
      "Layer 8 reconstruction error: 4573081.81640625\n",
      "Layer 9 reconstruction error: 4642021.16796875\n",
      "Layer 10 reconstruction error: 4748799.328125\n",
      "Layer 11 reconstruction error: 5649864.40625\n",
      "Layer 12 reconstruction error: 5473271.6328125\n",
      "Layer 13 reconstruction error: 5563297.46875\n",
      "Layer 14 reconstruction error: 6138029.296875\n",
      "Layer 15 reconstruction error: 6233951.578125\n",
      "Layer 16 reconstruction error: 6714793.40625\n",
      "Layer 17 reconstruction error: 6862527.5\n",
      "Layer 18 reconstruction error: 7135099.28125\n",
      "Layer 19 reconstruction error: 7028037.25\n",
      "Layer 20 reconstruction error: 7338784.046875\n",
      "Layer 21 reconstruction error: 7197489.34375\n",
      "Layer 22 reconstruction error: 7097635.53125\n",
      "Layer 23 reconstruction error: 6888818.75\n",
      "Layer 24 reconstruction error: 6889693.46875\n",
      "Layer 25 reconstruction error: 7190333.359375\n",
      "Layer 26 reconstruction error: 7993741.875\n",
      "Layer 27 reconstruction error: 8276064.328125\n",
      "Layer 28 reconstruction error: 9461756.6875\n",
      "Layer 29 reconstruction error: 10152718.90625\n",
      "Layer 30 reconstruction error: 12749818.09375\n",
      "Layer 31 reconstruction error: 25675708.25\n",
      "nsamples 83\n",
      "sample 0\n",
      "sample 50\n"
     ]
    },
    {
     "data": {
      "text/plain": [
       "Text(0.5, 1.0, 'Layer-wise Reconstruction Error after Pruning w/ Wanda and BaWa \\n(60% sparsity) Llama-2-7B')"
      ]
     },
     "execution_count": 40,
     "metadata": {},
     "output_type": "execute_result"
    },
    {
     "data": {
      "image/png": "[encoded data removed]",
      "text/plain": [
       "<Figure size 640x480 with 1 Axes>"
      ]
     },
     "metadata": {},
     "output_type": "display_data"
    }
   ],
   "source": [
    "del model\n",
    "gc.collect()\n",
    "torch.cuda.empty_cache()\n",
    "\n",
    "model = AutoModelForCausalLM.from_pretrained(model_name, device_map=\"auto\", dtype=torch.float16)\n",
    "reconstruction_errors = prune_default(model, fw_train_data, 0.7, theta1=0, theta2=0, theta3=1)\n",
    "perplexity = eval_ppl(model, w2_test_data, SEQUENCE_LEN,  bs=1, device=\"cuda\")\n",
    "\n",
    "del model\n",
    "gc.collect()\n",
    "torch.cuda.empty_cache()\n",
    "\n",
    "model = AutoModelForCausalLM.from_pretrained(model_name, device_map=\"auto\", dtype=torch.float16)\n",
    "bawa_reconstruction_errors = prune_default(model, fw_train_data, 0.7)\n",
    "bawa_perplexity = eval_ppl(model, w2_test_data, SEQUENCE_LEN,  bs=1, device=\"cuda\")\n",
    "\n",
    "# plot the reconstruction errors. Give appropriate labels and title\n",
    "# write the perplexity on the plot\n",
    "plt.plot(bawa_reconstruction_errors)\n",
    "plt.plot(reconstruction_errors)\n",
    "plt.legend([f\"BaWa: perplexity = {bawa_perplexity:.2f}\", f\"Wanda: perplexity = {perplexity:.2f}\"])\n",
    "plt.xlabel(\"Layer\")\n",
    "plt.ylabel(\"Reconstruction Error\")\n",
    "plt.grid()\n",
    "plt.title(\"Layer-wise Reconstruction Error after Pruning w/ Wanda and BaWa \\n(70% sparsity) Llama-2-7B\", wrap=True)\n",
    "# plt.text(0.5, max(reconstruction_errors)*0.9, f\"Perplexity: {perplexity:.2f}\", fontsize=12);"
   ]
  },
  {
   "cell_type": "markdown",
   "id": "017e746d",
   "metadata": {},
   "source": [
    "# Influence of outliers on recontruction error and perplexity"
   ]
  },
  {
   "cell_type": "markdown",
   "id": "6878d55b",
   "metadata": {},
   "source": []
  }
 ],
 "metadata": {
  "kernelspec": {
   "display_name": "esie",
   "language": "python",
   "name": "python3"
  },
  "language_info": {
   "codemirror_mode": {
    "name": "ipython",
    "version": 3
   },
   "file_extension": ".py",
   "mimetype": "text/x-python",
   "name": "python",
   "nbconvert_exporter": "python",
   "pygments_lexer": "ipython3",
   "version": "3.10.18"
  }
 },
 "nbformat": 4,
 "nbformat_minor": 5
}
